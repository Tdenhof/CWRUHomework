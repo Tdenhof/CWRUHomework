{
 "cells": [
  {
   "cell_type": "code",
   "execution_count": 47,
   "metadata": {},
   "outputs": [],
   "source": [
    "import pandas as pd\n",
    "import numpy as np\n",
    "from collections import defaultdict\n",
    "from itertools import chain, combinations\n",
    "def associationRule(freqItemSet, itemSetList, minConf):\n",
    "    rules = []\n",
    "    for itemSet in freqItemSet:\n",
    "        subsets = chain.from_iterable(combinations(itemSet, r) for r in range(1, len(itemSet)))\n",
    "        itemSetSup = 0\n",
    "        for item in itemSetList:\n",
    "            if(set(itemSet).issubset(item)):\n",
    "                itemSetSup+=1\n",
    "        for s in subsets:\n",
    "            count = 0\n",
    "            for itemSet in itemSetList:\n",
    "                if(set(s).issubset(itemSet)):\n",
    "                    count+=1\n",
    "            confidence = float(itemSetSup / count)\n",
    "            if(confidence > minConf):\n",
    "                itemSet = set(itemSet)\n",
    "                rules.append([set(s), set(itemSet.difference(s)), confidence])\n",
    "    return rules"
   ]
  },
  {
   "cell_type": "code",
   "execution_count": 48,
   "metadata": {},
   "outputs": [],
   "source": [
    "# Item Set from HW\n",
    "itemSet = [['Bread','Milk'],['Bread','Diaper','Beer','Eggs'],['Milk','Diaper','Beer','Coke'],['Bread','Milk','Diaper','Beer'],['Bread','Milk','Diaper','Coke']]"
   ]
  },
  {
   "cell_type": "code",
   "execution_count": 49,
   "metadata": {},
   "outputs": [],
   "source": [
    "## From Google Doc / HW\n",
    "freqItem = [['Bread','Milk'],['Bread','Diaper','Beer'],['Milk', 'Diaper', 'Beer', 'Coke'\n",
    "],['Bread', 'Milk', 'Diaper', 'Beer'],['Bread', 'Milk', 'Diaper', 'Coke']]"
   ]
  },
  {
   "cell_type": "code",
   "execution_count": 50,
   "metadata": {},
   "outputs": [
    {
     "data": {
      "text/plain": [
       "[['Bread', 'Milk'],\n",
       " ['Bread', 'Diaper', 'Beer'],\n",
       " ['Milk', 'Diaper', 'Beer', 'Coke'],\n",
       " ['Bread', 'Milk', 'Diaper', 'Beer'],\n",
       " ['Bread', 'Milk', 'Diaper', 'Coke']]"
      ]
     },
     "execution_count": 50,
     "metadata": {},
     "output_type": "execute_result"
    }
   ],
   "source": [
    "freqItem"
   ]
  },
  {
   "cell_type": "code",
   "execution_count": null,
   "metadata": {},
   "outputs": [],
   "source": []
  },
  {
   "cell_type": "code",
   "execution_count": 52,
   "metadata": {},
   "outputs": [
    {
     "data": {
      "text/plain": [
       "[[{'Bread'}, {'Coke', 'Diaper', 'Milk'}, 0.75],\n",
       " [{'Milk'}, {'Bread', 'Coke', 'Diaper'}, 0.75],\n",
       " [{'Beer'}, {'Bread', 'Coke', 'Diaper', 'Milk'}, 0.6666666666666666],\n",
       " [{'Coke', 'Milk'}, {'Bread', 'Diaper'}, 1.0],\n",
       " [{'Bread', 'Milk'}, {'Coke', 'Diaper'}, 0.6666666666666666],\n",
       " [{'Diaper', 'Milk'}, {'Bread', 'Coke'}, 0.6666666666666666],\n",
       " [{'Bread', 'Coke'}, {'Diaper', 'Milk'}, 2.0],\n",
       " [{'Coke', 'Diaper'}, {'Bread', 'Milk'}, 1.0],\n",
       " [{'Bread', 'Diaper'}, {'Coke', 'Milk'}, 0.6666666666666666],\n",
       " [{'Bread', 'Coke'}, {'Diaper', 'Milk'}, 1.0],\n",
       " [{'Bread', 'Coke', 'Milk'}, {'Diaper'}, 1.0],\n",
       " [{'Bread', 'Coke', 'Diaper'}, {'Milk'}, 1.0],\n",
       " [{'Bread', 'Coke'}, {'Diaper', 'Milk'}, 1.0],\n",
       " [{'Bread', 'Coke', 'Milk'}, {'Diaper'}, 1.0],\n",
       " [{'Bread', 'Coke', 'Diaper'}, {'Milk'}, 1.0],\n",
       " [{'Bread', 'Coke'}, {'Diaper', 'Milk'}, 1.0],\n",
       " [{'Bread', 'Coke', 'Milk'}, {'Diaper'}, 1.0],\n",
       " [{'Bread', 'Coke', 'Diaper'}, {'Milk'}, 1.0]]"
      ]
     },
     "execution_count": 52,
     "metadata": {},
     "output_type": "execute_result"
    }
   ],
   "source": [
    "associationRule(freqItem,itemSet,.6)"
   ]
  },
  {
   "cell_type": "code",
   "execution_count": null,
   "metadata": {},
   "outputs": [],
   "source": []
  },
  {
   "cell_type": "code",
   "execution_count": null,
   "metadata": {},
   "outputs": [],
   "source": []
  }
 ],
 "metadata": {
  "kernelspec": {
   "display_name": "Python 3",
   "language": "python",
   "name": "python3"
  },
  "language_info": {
   "codemirror_mode": {
    "name": "ipython",
    "version": 3
   },
   "file_extension": ".py",
   "mimetype": "text/x-python",
   "name": "python",
   "nbconvert_exporter": "python",
   "pygments_lexer": "ipython3",
   "version": "3.8.3"
  }
 },
 "nbformat": 4,
 "nbformat_minor": 4
}
