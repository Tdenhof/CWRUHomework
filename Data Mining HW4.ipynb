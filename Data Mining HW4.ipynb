{
 "cells": [
  {
   "cell_type": "markdown",
   "metadata": {},
   "source": [
    "# Data Mining Homework 4"
   ]
  },
  {
   "cell_type": "markdown",
   "metadata": {},
   "source": [
    "## Problem 4"
   ]
  },
  {
   "cell_type": "code",
   "execution_count": 1,
   "metadata": {},
   "outputs": [
    {
     "data": {
      "text/html": [
       "<div>\n",
       "<style scoped>\n",
       "    .dataframe tbody tr th:only-of-type {\n",
       "        vertical-align: middle;\n",
       "    }\n",
       "\n",
       "    .dataframe tbody tr th {\n",
       "        vertical-align: top;\n",
       "    }\n",
       "\n",
       "    .dataframe thead th {\n",
       "        text-align: right;\n",
       "    }\n",
       "</style>\n",
       "<table border=\"1\" class=\"dataframe\">\n",
       "  <thead>\n",
       "    <tr style=\"text-align: right;\">\n",
       "      <th></th>\n",
       "      <th>outlook</th>\n",
       "      <th>temp</th>\n",
       "      <th>humidity</th>\n",
       "      <th>windy</th>\n",
       "      <th>play</th>\n",
       "    </tr>\n",
       "  </thead>\n",
       "  <tbody>\n",
       "    <tr>\n",
       "      <th>0</th>\n",
       "      <td>sunny</td>\n",
       "      <td>85</td>\n",
       "      <td>85</td>\n",
       "      <td>false</td>\n",
       "      <td>no</td>\n",
       "    </tr>\n",
       "    <tr>\n",
       "      <th>1</th>\n",
       "      <td>sunny</td>\n",
       "      <td>80</td>\n",
       "      <td>90</td>\n",
       "      <td>true</td>\n",
       "      <td>no</td>\n",
       "    </tr>\n",
       "    <tr>\n",
       "      <th>2</th>\n",
       "      <td>overcast</td>\n",
       "      <td>83</td>\n",
       "      <td>86</td>\n",
       "      <td>false</td>\n",
       "      <td>yes</td>\n",
       "    </tr>\n",
       "    <tr>\n",
       "      <th>3</th>\n",
       "      <td>rainy</td>\n",
       "      <td>70</td>\n",
       "      <td>96</td>\n",
       "      <td>false</td>\n",
       "      <td>yes</td>\n",
       "    </tr>\n",
       "    <tr>\n",
       "      <th>4</th>\n",
       "      <td>rainy</td>\n",
       "      <td>68</td>\n",
       "      <td>80</td>\n",
       "      <td>false</td>\n",
       "      <td>yes</td>\n",
       "    </tr>\n",
       "  </tbody>\n",
       "</table>\n",
       "</div>"
      ],
      "text/plain": [
       "    outlook  temp  humidity  windy play\n",
       "0     sunny    85        85  false   no\n",
       "1     sunny    80        90   true   no\n",
       "2  overcast    83        86  false  yes\n",
       "3     rainy    70        96  false  yes\n",
       "4     rainy    68        80  false  yes"
      ]
     },
     "execution_count": 1,
     "metadata": {},
     "output_type": "execute_result"
    }
   ],
   "source": [
    "import numpy as np\n",
    "import pandas as pd\n",
    "eps = np.finfo(float).eps\n",
    "from numpy import log2 as log\n",
    "## Where 1 = true, 0 = false \n",
    "data = {'outlook': ['sunny','sunny','overcast','rainy','rainy','rainy','overcast','sunny','sunny','rainy','sunny','overcast','overcast','rainy'],\n",
    "        'temp':[85,80,83,70,68,65,64,72,69,75,75,72,81,71],\n",
    "        'humidity': [85,90,86,96,80,70,65,95,70,80,70,90,75,91],\n",
    "        'windy': ['false','true','false','false','false','true','true','false','false','false','true','true','false','true'],\n",
    "        'play' : ['no','no','yes','yes','yes','no','yes','no','yes','yes','yes','yes','yes','no']\n",
    "        }\n",
    "df= pd.DataFrame (data, columns = ['outlook','temp','humidity','windy','play'])\n",
    "df.head()"
   ]
  },
  {
   "cell_type": "code",
   "execution_count": 2,
   "metadata": {},
   "outputs": [
    {
     "data": {
      "text/html": [
       "<div>\n",
       "<style scoped>\n",
       "    .dataframe tbody tr th:only-of-type {\n",
       "        vertical-align: middle;\n",
       "    }\n",
       "\n",
       "    .dataframe tbody tr th {\n",
       "        vertical-align: top;\n",
       "    }\n",
       "\n",
       "    .dataframe thead th {\n",
       "        text-align: right;\n",
       "    }\n",
       "</style>\n",
       "<table border=\"1\" class=\"dataframe\">\n",
       "  <thead>\n",
       "    <tr style=\"text-align: right;\">\n",
       "      <th></th>\n",
       "      <th>outlook</th>\n",
       "      <th>temp</th>\n",
       "      <th>humidity</th>\n",
       "      <th>windy</th>\n",
       "      <th>play</th>\n",
       "      <th>temp&gt;=75</th>\n",
       "      <th>humidity&gt;=80</th>\n",
       "    </tr>\n",
       "  </thead>\n",
       "  <tbody>\n",
       "    <tr>\n",
       "      <th>0</th>\n",
       "      <td>sunny</td>\n",
       "      <td>85</td>\n",
       "      <td>85</td>\n",
       "      <td>false</td>\n",
       "      <td>no</td>\n",
       "      <td>true</td>\n",
       "      <td>true</td>\n",
       "    </tr>\n",
       "    <tr>\n",
       "      <th>1</th>\n",
       "      <td>sunny</td>\n",
       "      <td>80</td>\n",
       "      <td>90</td>\n",
       "      <td>true</td>\n",
       "      <td>no</td>\n",
       "      <td>true</td>\n",
       "      <td>true</td>\n",
       "    </tr>\n",
       "    <tr>\n",
       "      <th>2</th>\n",
       "      <td>overcast</td>\n",
       "      <td>83</td>\n",
       "      <td>86</td>\n",
       "      <td>false</td>\n",
       "      <td>yes</td>\n",
       "      <td>true</td>\n",
       "      <td>true</td>\n",
       "    </tr>\n",
       "    <tr>\n",
       "      <th>3</th>\n",
       "      <td>rainy</td>\n",
       "      <td>70</td>\n",
       "      <td>96</td>\n",
       "      <td>false</td>\n",
       "      <td>yes</td>\n",
       "      <td>false</td>\n",
       "      <td>true</td>\n",
       "    </tr>\n",
       "    <tr>\n",
       "      <th>4</th>\n",
       "      <td>rainy</td>\n",
       "      <td>68</td>\n",
       "      <td>80</td>\n",
       "      <td>false</td>\n",
       "      <td>yes</td>\n",
       "      <td>false</td>\n",
       "      <td>true</td>\n",
       "    </tr>\n",
       "    <tr>\n",
       "      <th>5</th>\n",
       "      <td>rainy</td>\n",
       "      <td>65</td>\n",
       "      <td>70</td>\n",
       "      <td>true</td>\n",
       "      <td>no</td>\n",
       "      <td>false</td>\n",
       "      <td>false</td>\n",
       "    </tr>\n",
       "    <tr>\n",
       "      <th>6</th>\n",
       "      <td>overcast</td>\n",
       "      <td>64</td>\n",
       "      <td>65</td>\n",
       "      <td>true</td>\n",
       "      <td>yes</td>\n",
       "      <td>false</td>\n",
       "      <td>false</td>\n",
       "    </tr>\n",
       "    <tr>\n",
       "      <th>7</th>\n",
       "      <td>sunny</td>\n",
       "      <td>72</td>\n",
       "      <td>95</td>\n",
       "      <td>false</td>\n",
       "      <td>no</td>\n",
       "      <td>false</td>\n",
       "      <td>true</td>\n",
       "    </tr>\n",
       "    <tr>\n",
       "      <th>8</th>\n",
       "      <td>sunny</td>\n",
       "      <td>69</td>\n",
       "      <td>70</td>\n",
       "      <td>false</td>\n",
       "      <td>yes</td>\n",
       "      <td>false</td>\n",
       "      <td>false</td>\n",
       "    </tr>\n",
       "    <tr>\n",
       "      <th>9</th>\n",
       "      <td>rainy</td>\n",
       "      <td>75</td>\n",
       "      <td>80</td>\n",
       "      <td>false</td>\n",
       "      <td>yes</td>\n",
       "      <td>true</td>\n",
       "      <td>true</td>\n",
       "    </tr>\n",
       "    <tr>\n",
       "      <th>10</th>\n",
       "      <td>sunny</td>\n",
       "      <td>75</td>\n",
       "      <td>70</td>\n",
       "      <td>true</td>\n",
       "      <td>yes</td>\n",
       "      <td>true</td>\n",
       "      <td>false</td>\n",
       "    </tr>\n",
       "    <tr>\n",
       "      <th>11</th>\n",
       "      <td>overcast</td>\n",
       "      <td>72</td>\n",
       "      <td>90</td>\n",
       "      <td>true</td>\n",
       "      <td>yes</td>\n",
       "      <td>false</td>\n",
       "      <td>true</td>\n",
       "    </tr>\n",
       "    <tr>\n",
       "      <th>12</th>\n",
       "      <td>overcast</td>\n",
       "      <td>81</td>\n",
       "      <td>75</td>\n",
       "      <td>false</td>\n",
       "      <td>yes</td>\n",
       "      <td>true</td>\n",
       "      <td>false</td>\n",
       "    </tr>\n",
       "    <tr>\n",
       "      <th>13</th>\n",
       "      <td>rainy</td>\n",
       "      <td>71</td>\n",
       "      <td>91</td>\n",
       "      <td>true</td>\n",
       "      <td>no</td>\n",
       "      <td>false</td>\n",
       "      <td>true</td>\n",
       "    </tr>\n",
       "  </tbody>\n",
       "</table>\n",
       "</div>"
      ],
      "text/plain": [
       "     outlook  temp  humidity  windy play temp>=75 humidity>=80\n",
       "0      sunny    85        85  false   no     true         true\n",
       "1      sunny    80        90   true   no     true         true\n",
       "2   overcast    83        86  false  yes     true         true\n",
       "3      rainy    70        96  false  yes    false         true\n",
       "4      rainy    68        80  false  yes    false         true\n",
       "5      rainy    65        70   true   no    false        false\n",
       "6   overcast    64        65   true  yes    false        false\n",
       "7      sunny    72        95  false   no    false         true\n",
       "8      sunny    69        70  false  yes    false        false\n",
       "9      rainy    75        80  false  yes     true         true\n",
       "10     sunny    75        70   true  yes     true        false\n",
       "11  overcast    72        90   true  yes    false         true\n",
       "12  overcast    81        75  false  yes     true        false\n",
       "13     rainy    71        91   true   no    false         true"
      ]
     },
     "execution_count": 2,
     "metadata": {},
     "output_type": "execute_result"
    }
   ],
   "source": [
    "df['temp>=75'] = np.where(df['temp'] >= 75, 'true', 'false')\n",
    "df['humidity>=80'] = np.where(df['humidity']>= 80,'true','false')\n",
    "df"
   ]
  },
  {
   "cell_type": "code",
   "execution_count": 3,
   "metadata": {},
   "outputs": [],
   "source": [
    "df = df.drop(columns = ['temp','humidity'])"
   ]
  },
  {
   "cell_type": "code",
   "execution_count": 11,
   "metadata": {},
   "outputs": [
    {
     "data": {
      "text/html": [
       "<div>\n",
       "<style scoped>\n",
       "    .dataframe tbody tr th:only-of-type {\n",
       "        vertical-align: middle;\n",
       "    }\n",
       "\n",
       "    .dataframe tbody tr th {\n",
       "        vertical-align: top;\n",
       "    }\n",
       "\n",
       "    .dataframe thead th {\n",
       "        text-align: right;\n",
       "    }\n",
       "</style>\n",
       "<table border=\"1\" class=\"dataframe\">\n",
       "  <thead>\n",
       "    <tr style=\"text-align: right;\">\n",
       "      <th></th>\n",
       "      <th>outlook</th>\n",
       "      <th>windy</th>\n",
       "      <th>temp&gt;=75</th>\n",
       "      <th>humidity&gt;=80</th>\n",
       "      <th>Play</th>\n",
       "    </tr>\n",
       "  </thead>\n",
       "  <tbody>\n",
       "    <tr>\n",
       "      <th>0</th>\n",
       "      <td>sunny</td>\n",
       "      <td>false</td>\n",
       "      <td>true</td>\n",
       "      <td>true</td>\n",
       "      <td>no</td>\n",
       "    </tr>\n",
       "    <tr>\n",
       "      <th>1</th>\n",
       "      <td>sunny</td>\n",
       "      <td>true</td>\n",
       "      <td>true</td>\n",
       "      <td>true</td>\n",
       "      <td>no</td>\n",
       "    </tr>\n",
       "    <tr>\n",
       "      <th>2</th>\n",
       "      <td>overcast</td>\n",
       "      <td>false</td>\n",
       "      <td>true</td>\n",
       "      <td>true</td>\n",
       "      <td>yes</td>\n",
       "    </tr>\n",
       "    <tr>\n",
       "      <th>3</th>\n",
       "      <td>rainy</td>\n",
       "      <td>false</td>\n",
       "      <td>false</td>\n",
       "      <td>true</td>\n",
       "      <td>yes</td>\n",
       "    </tr>\n",
       "    <tr>\n",
       "      <th>4</th>\n",
       "      <td>rainy</td>\n",
       "      <td>false</td>\n",
       "      <td>false</td>\n",
       "      <td>true</td>\n",
       "      <td>yes</td>\n",
       "    </tr>\n",
       "    <tr>\n",
       "      <th>5</th>\n",
       "      <td>rainy</td>\n",
       "      <td>true</td>\n",
       "      <td>false</td>\n",
       "      <td>false</td>\n",
       "      <td>no</td>\n",
       "    </tr>\n",
       "    <tr>\n",
       "      <th>6</th>\n",
       "      <td>overcast</td>\n",
       "      <td>true</td>\n",
       "      <td>false</td>\n",
       "      <td>false</td>\n",
       "      <td>yes</td>\n",
       "    </tr>\n",
       "    <tr>\n",
       "      <th>7</th>\n",
       "      <td>sunny</td>\n",
       "      <td>false</td>\n",
       "      <td>false</td>\n",
       "      <td>true</td>\n",
       "      <td>no</td>\n",
       "    </tr>\n",
       "    <tr>\n",
       "      <th>8</th>\n",
       "      <td>sunny</td>\n",
       "      <td>false</td>\n",
       "      <td>false</td>\n",
       "      <td>false</td>\n",
       "      <td>yes</td>\n",
       "    </tr>\n",
       "    <tr>\n",
       "      <th>9</th>\n",
       "      <td>rainy</td>\n",
       "      <td>false</td>\n",
       "      <td>true</td>\n",
       "      <td>true</td>\n",
       "      <td>yes</td>\n",
       "    </tr>\n",
       "    <tr>\n",
       "      <th>10</th>\n",
       "      <td>sunny</td>\n",
       "      <td>true</td>\n",
       "      <td>true</td>\n",
       "      <td>false</td>\n",
       "      <td>yes</td>\n",
       "    </tr>\n",
       "    <tr>\n",
       "      <th>11</th>\n",
       "      <td>overcast</td>\n",
       "      <td>true</td>\n",
       "      <td>false</td>\n",
       "      <td>true</td>\n",
       "      <td>yes</td>\n",
       "    </tr>\n",
       "    <tr>\n",
       "      <th>12</th>\n",
       "      <td>overcast</td>\n",
       "      <td>false</td>\n",
       "      <td>true</td>\n",
       "      <td>false</td>\n",
       "      <td>yes</td>\n",
       "    </tr>\n",
       "    <tr>\n",
       "      <th>13</th>\n",
       "      <td>rainy</td>\n",
       "      <td>true</td>\n",
       "      <td>false</td>\n",
       "      <td>true</td>\n",
       "      <td>no</td>\n",
       "    </tr>\n",
       "  </tbody>\n",
       "</table>\n",
       "</div>"
      ],
      "text/plain": [
       "     outlook  windy temp>=75 humidity>=80 Play\n",
       "0      sunny  false     true         true   no\n",
       "1      sunny   true     true         true   no\n",
       "2   overcast  false     true         true  yes\n",
       "3      rainy  false    false         true  yes\n",
       "4      rainy  false    false         true  yes\n",
       "5      rainy   true    false        false   no\n",
       "6   overcast   true    false        false  yes\n",
       "7      sunny  false    false         true   no\n",
       "8      sunny  false    false        false  yes\n",
       "9      rainy  false     true         true  yes\n",
       "10     sunny   true     true        false  yes\n",
       "11  overcast   true    false         true  yes\n",
       "12  overcast  false     true        false  yes\n",
       "13     rainy   true    false         true   no"
      ]
     },
     "execution_count": 11,
     "metadata": {},
     "output_type": "execute_result"
    }
   ],
   "source": [
    "df['Play'] = df['play']\n",
    "df = df.drop(columns = ['play'])\n",
    "df"
   ]
  },
  {
   "cell_type": "markdown",
   "metadata": {},
   "source": [
    " ## Description\n",
    " 'temp': [85,80,83,70,68,65,64,72,69,75,75,72,81,71],\n",
    "        'humidity': [85,90,86,96,80,70,65,95,70,80,70,90,75,91],\n",
    "        \n",
    "So I know this is probably not the best but when I wrote it with the actual number values Temp was the max info gain which gave us difficult results as both temp and humidity are continous variables. So instead, I chose values of 75 and 80 respectively to determine a true or false value. The results may be different, but it allowed me to predict better"
   ]
  },
  {
   "cell_type": "markdown",
   "metadata": {},
   "source": [
    "Part 1 Using Entropy/Information Gain"
   ]
  },
  {
   "cell_type": "code",
   "execution_count": 36,
   "metadata": {},
   "outputs": [],
   "source": [
    "def find_entropy(df):\n",
    "    Class = df.keys()[-1]\n",
    "    entropy = 0\n",
    "    values = df.Play.unique()\n",
    "    for value in values:\n",
    "        fraction = df.Play.value_counts()[value]/len(df.Play)\n",
    "        entropy += -fraction*np.log2(fraction)\n",
    "    return entropy"
   ]
  },
  {
   "cell_type": "code",
   "execution_count": 37,
   "metadata": {},
   "outputs": [],
   "source": [
    "totEntropy = find_entropy(df)"
   ]
  },
  {
   "cell_type": "code",
   "execution_count": 38,
   "metadata": {},
   "outputs": [],
   "source": [
    "def find_entropy_key(df,attribute):\n",
    "    Class = df.keys()[-1]\n",
    "    target_variables = df.Play.unique()\n",
    "    variables = df[attribute].unique()\n",
    "    entropy_attribute1 = 0\n",
    "    for variable in variables:\n",
    "        entropy_individual = 0\n",
    "        for target_variable in target_variables:\n",
    "            num = len(df[attribute][df[attribute]==variable][df.Play == target_variable])\n",
    "            den = len(df[attribute][df[attribute]==variable])\n",
    "            fraction = num/(den+eps)\n",
    "            entropy_individual += -fraction*log(fraction+eps)\n",
    "        fraction2 = den/len(df)\n",
    "        entropy_attribute1 += -fraction2*entropy_individual\n",
    "    return abs(entropy_attribute1)"
   ]
  },
  {
   "cell_type": "code",
   "execution_count": null,
   "metadata": {},
   "outputs": [],
   "source": []
  },
  {
   "cell_type": "code",
   "execution_count": 39,
   "metadata": {},
   "outputs": [],
   "source": [
    "tempEntropy = find_entropy_key(df,'temp>=75')\n",
    "outlookEntropy = find_entropy_key(df,'outlook')\n",
    "windyEntropy = find_entropy_key(df,'windy')\n",
    "humidityEntropy = find_entropy_key(df,'humidity>=80')"
   ]
  },
  {
   "cell_type": "code",
   "execution_count": 40,
   "metadata": {},
   "outputs": [
    {
     "name": "stdout",
     "output_type": "stream",
     "text": [
      "[0.0013397424044421236, 0.24674981977443977, 0.048127030408270155, 0.04533417202914514]\n"
     ]
    }
   ],
   "source": [
    "## Info Gain\n",
    "tempGain = totEntropy - tempEntropy\n",
    "outlookGain = totEntropy - outlookEntropy\n",
    "windyGain = totEntropy - windyEntropy\n",
    "humidityGain = totEntropy - humidityEntropy\n",
    "print([tempGain, outlookGain, windyGain, humidityGain])"
   ]
  },
  {
   "cell_type": "code",
   "execution_count": 41,
   "metadata": {},
   "outputs": [],
   "source": [
    "# Find the most valu\n",
    "def maxInfoGain(df):\n",
    "    Entropy_val = []\n",
    "    IG = []\n",
    "    for key in df.keys()[:-1]:\n",
    "        IG.append(find_entropy(df)-find_entropy_key(df,key))\n",
    "    return df.keys()[:-1][np.argmax(IG)]   "
   ]
  },
  {
   "cell_type": "code",
   "execution_count": 42,
   "metadata": {},
   "outputs": [
    {
     "data": {
      "text/plain": [
       "'outlook'"
      ]
     },
     "execution_count": 42,
     "metadata": {},
     "output_type": "execute_result"
    }
   ],
   "source": [
    "maxInfoGain(df)"
   ]
  },
  {
   "cell_type": "code",
   "execution_count": 43,
   "metadata": {},
   "outputs": [],
   "source": [
    "def create_subtable(df, node, value):\n",
    "    return df[df[node] == value].reset_index(drop = True)"
   ]
  },
  {
   "cell_type": "code",
   "execution_count": 44,
   "metadata": {},
   "outputs": [],
   "source": [
    "def buildTree(df, tree = None):\n",
    "    Class = df.keys()[-1]\n",
    "    # Allow for the comparison of methods\n",
    "    \n",
    "    node = maxInfoGain(df)\n",
    "    attValue = np.unique(df[node])\n",
    "    if tree is None:                    \n",
    "        tree={}\n",
    "        tree[node] = {}\n",
    "    for value in attValue:\n",
    "        \n",
    "        subtable = create_subtable(df,node,value)\n",
    "        clValue,counts = np.unique(subtable['Play'],return_counts=True)                        \n",
    "        \n",
    "        if len(counts)==1:\n",
    "            tree[node][value] = clValue[0]                                                    \n",
    "        else:        \n",
    "            tree[node][value] = buildTree(subtable) \n",
    "                   \n",
    "    return tree"
   ]
  },
  {
   "cell_type": "code",
   "execution_count": 45,
   "metadata": {},
   "outputs": [],
   "source": [
    "tree = buildTree(df)"
   ]
  },
  {
   "cell_type": "code",
   "execution_count": 46,
   "metadata": {},
   "outputs": [
    {
     "name": "stdout",
     "output_type": "stream",
     "text": [
      "{'outlook': {'overcast': 'yes',\n",
      "             'rainy': {'windy': {'false': 'yes', 'true': 'no'}},\n",
      "             'sunny': {'humidity>=80': {'false': 'yes', 'true': 'no'}}}}\n"
     ]
    }
   ],
   "source": [
    "import pprint\n",
    "pprint.pprint(tree)"
   ]
  },
  {
   "cell_type": "code",
   "execution_count": 47,
   "metadata": {},
   "outputs": [],
   "source": [
    "def predict(inst,tree):\n",
    "    for nodes in tree.keys():\n",
    "        value = inst[nodes]\n",
    "        tree = tree[nodes][value]\n",
    "        prediction = 0\n",
    "        if type(tree) is dict:\n",
    "            prediction = predict(inst, tree)\n",
    "        else:\n",
    "            prediction = tree\n",
    "            break;\n",
    "    return prediction"
   ]
  },
  {
   "cell_type": "code",
   "execution_count": 48,
   "metadata": {},
   "outputs": [],
   "source": [
    "dataDict = {'outlook': 'overcast','temp>=75' : 'false','humidity>=80' :'false','windy': 'false'}\n",
    "# Temp is 60, Humidity is 62 --> Both are false \n",
    "inst = pd.Series(dataDict)"
   ]
  },
  {
   "cell_type": "code",
   "execution_count": 49,
   "metadata": {},
   "outputs": [
    {
     "data": {
      "text/plain": [
       "'yes'"
      ]
     },
     "execution_count": 49,
     "metadata": {},
     "output_type": "execute_result"
    }
   ],
   "source": [
    "predict(inst,tree)"
   ]
  },
  {
   "cell_type": "markdown",
   "metadata": {},
   "source": [
    "## Now Change Methods (Info Gain vs Gini Index vs Gain Ratio)"
   ]
  },
  {
   "cell_type": "code",
   "execution_count": 87,
   "metadata": {},
   "outputs": [],
   "source": [
    "import collections\n"
   ]
  },
  {
   "cell_type": "code",
   "execution_count": 89,
   "metadata": {},
   "outputs": [],
   "source": [
    "## Since Gain Ratio is Split() / Gain \n",
    "def splitInfo(df,attribute):\n",
    "    tot = len(df)\n",
    "    counterDic = dict(collections.Counter(df[attribute]))\n",
    "    totalValue = []\n",
    "    for key in counterDic.keys():\n",
    "        fraction = (counterDic[key] / tot)\n",
    "        tempVal = - (fraction*np.log2(fraction))\n",
    "        totalValue.append(tempVal)\n",
    "    return sum(totalValue)\n",
    "def gainRatio(df,attribute):\n",
    "    if attribute == 'outlook':\n",
    "        split = splitInfo(df,attribute)\n",
    "        return   outlookGain / split\n",
    "    if attribute == 'windy':\n",
    "        split = splitInfo(df,attribute)\n",
    "        return  windyGain / split\n",
    "    if attribute == 'temp>=75':\n",
    "        split = splitInfo(df,attribute)\n",
    "        return   tempGain / split\n",
    "    if attribute == 'humidity>=80':\n",
    "        split = splitInfo(df,attribute)\n",
    "        return   humidityGain / split\n",
    "    \n",
    "def maxGainRatio(df):\n",
    "    colNames = []\n",
    "    for col in df.columns:\n",
    "        colNames.append(col)\n",
    "    colNames = colNames[:-1]\n",
    "    ratioPerAt = {}\n",
    "    for i in colNames: \n",
    "        ratioPerAt.update({i : gainRatio(df,i)})\n",
    "    keyMax = max(ratioPerAt, key = ratioPerAt.get)\n",
    "    return keyMax\n"
   ]
  },
  {
   "cell_type": "code",
   "execution_count": 119,
   "metadata": {},
   "outputs": [],
   "source": [
    "## Gini Index\n",
    "def GiniIndex(df):\n",
    "    tot = len(df)\n",
    "    colNames = []\n",
    "    for col in df.columns:\n",
    "        colNames.append(col)\n",
    "    colNames = colNames[:-1]\n",
    "    giniDic = {}\n",
    "    for i in colNames:\n",
    "        tempDic = attributeDisection(df,i)\n",
    "        tempValues = []\n",
    "        for key in tempDic.keys():\n",
    "            tempValues.append(tempDic[key] / tot)\n",
    "        coef = len(tempValues)\n",
    "        val = 1\n",
    "        for x in tempValues:\n",
    "            val = val * x\n",
    "        gini = coef*val\n",
    "        giniDic.update({i : gini})\n",
    "    return giniDic\n",
    "    \n",
    "def attributeDisection(df,attribute):\n",
    "    return dict(collections.Counter(df[attribute]))\n",
    "def minGini(df):\n",
    "    tempDic = GiniIndex(df)\n",
    "    keyMin = min(tempDic, key =tempDic.get)\n",
    "    return keyMin\n"
   ]
  },
  {
   "cell_type": "markdown",
   "metadata": {},
   "source": [
    "# Applying to Tree Construction\n",
    "\n",
    "Now that we have established methods to determine root nodes. We will modify our tree from above to compare results."
   ]
  },
  {
   "cell_type": "code",
   "execution_count": 120,
   "metadata": {},
   "outputs": [],
   "source": [
    "def buildTree2(df,attributeCriteria, tree = None):\n",
    "    Class = df.keys()[-1]\n",
    "    # Allow for the comparison of methods\n",
    "    if attributeCriteria == 'Gini':\n",
    "        node = minGini(df)\n",
    "    if attributeCriteria == 'Gain':\n",
    "        node = maxInfoGain(df)\n",
    "    if attributeCriteria == 'GainRatio':\n",
    "        node = maxGainRatio\n",
    "    attValue = np.unique(df[node])\n",
    "    if tree is None:                    \n",
    "        tree={}\n",
    "        tree[node] = {}\n",
    "    for value in attValue:\n",
    "        \n",
    "        subtable = create_subtable(df,node,value)\n",
    "        clValue,counts = np.unique(subtable['Play'],return_counts=True)                        \n",
    "        \n",
    "        if len(counts)==1:\n",
    "            tree[node][value] = clValue[0]                                                    \n",
    "        else:        \n",
    "            tree[node][value] = buildTree(subtable) \n",
    "                   \n",
    "    return tree"
   ]
  },
  {
   "cell_type": "code",
   "execution_count": 122,
   "metadata": {},
   "outputs": [],
   "source": [
    "treeGini = buildTree2(df,'Gini')\n",
    "treeGain = buildTree2(df,'Gain')\n",
    "treeGainRatio = buildTree2(df,'GainRatio')"
   ]
  },
  {
   "cell_type": "code",
   "execution_count": 123,
   "metadata": {},
   "outputs": [
    {
     "name": "stdout",
     "output_type": "stream",
     "text": [
      "{'outlook': {'overcast': 'yes',\n",
      "             'rainy': {'windy': {'false': 'yes', 'true': 'no'}},\n",
      "             'sunny': {'humidity>=80': {'false': 'yes', 'true': 'no'}}}}\n"
     ]
    }
   ],
   "source": [
    "#Gini\n",
    "pprint.pprint(treeGini)"
   ]
  },
  {
   "cell_type": "code",
   "execution_count": 124,
   "metadata": {},
   "outputs": [
    {
     "name": "stdout",
     "output_type": "stream",
     "text": [
      "{'outlook': {'overcast': 'yes',\n",
      "             'rainy': {'windy': {'false': 'yes', 'true': 'no'}},\n",
      "             'sunny': {'humidity>=80': {'false': 'yes', 'true': 'no'}}}}\n"
     ]
    }
   ],
   "source": [
    "#Gain\n",
    "pprint.pprint(treeGain)"
   ]
  },
  {
   "cell_type": "code",
   "execution_count": 125,
   "metadata": {},
   "outputs": [
    {
     "name": "stdout",
     "output_type": "stream",
     "text": [
      "{<function maxGainRatio at 0x7fe1e81e2d30>: {'overcast': 'yes',\n",
      "                                             'rainy': {'windy': {'false': 'yes',\n",
      "                                                                 'true': 'no'}},\n",
      "                                             'sunny': {'humidity>=80': {'false': 'yes',\n",
      "                                                                        'true': 'no'}}}}\n"
     ]
    }
   ],
   "source": [
    "#GainRatio\n",
    "pprint.pprint(treeGainRatio)"
   ]
  },
  {
   "cell_type": "markdown",
   "metadata": {},
   "source": [
    "## Results\n",
    "\n",
    "When we implemented the attribute criteria selection, we recieved the same decision tree every time. "
   ]
  },
  {
   "cell_type": "code",
   "execution_count": null,
   "metadata": {},
   "outputs": [],
   "source": []
  }
 ],
 "metadata": {
  "kernelspec": {
   "display_name": "Python 3",
   "language": "python",
   "name": "python3"
  },
  "language_info": {
   "codemirror_mode": {
    "name": "ipython",
    "version": 3
   },
   "file_extension": ".py",
   "mimetype": "text/x-python",
   "name": "python",
   "nbconvert_exporter": "python",
   "pygments_lexer": "ipython3",
   "version": "3.8.5"
  }
 },
 "nbformat": 4,
 "nbformat_minor": 4
}
