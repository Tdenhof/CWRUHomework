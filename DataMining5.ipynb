{
 "cells": [
  {
   "cell_type": "code",
   "execution_count": 2,
   "metadata": {},
   "outputs": [],
   "source": [
    "#Imports\n",
    "from math import exp\n",
    "from random import seed\n",
    "from random import random"
   ]
  },
  {
   "cell_type": "markdown",
   "metadata": {},
   "source": [
    "# Methods"
   ]
  },
  {
   "cell_type": "code",
   "execution_count": 15,
   "metadata": {},
   "outputs": [
    {
     "data": {
      "text/plain": [
       "[[{'weights': [0.04867004643405559, 0.34191875689337337, 0.7675190728202232]},\n",
       "  {'weights': [0.9041471736555495, 0.8461087955749224, 0.6973124996479755]},\n",
       "  {'weights': [0.33395117659733675, 0.6364528636580962, 0.21585368592083076]}],\n",
       " [{'weights': [0.9478778318343694,\n",
       "    0.48620389024745814,\n",
       "    0.4138452177977743,\n",
       "    0.423569531962366]},\n",
       "  {'weights': [0.5674600098512985,\n",
       "    0.3647822041420016,\n",
       "    0.25464210235046614,\n",
       "    0.5377591766164905]}]]"
      ]
     },
     "execution_count": 15,
     "metadata": {},
     "output_type": "execute_result"
    }
   ],
   "source": [
    "## Initialize the Network\n",
    "def initialize(nInputs,nHidden,nOutputs):\n",
    "    nn = list()\n",
    "    hidden_layer = [{'weights':[random() for i in range(nInputs + 1)]} for i in range(nHidden)]\n",
    "    nn.append(hidden_layer)\n",
    "    output_layer = [{'weights':[random() for i in range(nHidden + 1)]} for i in range(nOutputs)]\n",
    "    nn.append(output_layer)\n",
    "    return nn\n",
    "##EX: Inputs Based on HW example\n",
    "nnTest = initialize(2,3,2)\n",
    "nnTest"
   ]
  },
  {
   "cell_type": "markdown",
   "metadata": {},
   "source": [
    "### Forward Propogation"
   ]
  },
  {
   "cell_type": "code",
   "execution_count": 16,
   "metadata": {},
   "outputs": [
    {
     "name": "stdout",
     "output_type": "stream",
     "text": [
      "[0.8485804944130987, 0.7987445048958676]\n",
      "-----------\n",
      "[[{'weights': [0.04867004643405559, 0.34191875689337337, 0.7675190728202232], 'output': 0.6965479392627051}, {'weights': [0.9041471736555495, 0.8461087955749224, 0.6973124996479755], 'output': 0.7899147592724305}, {'weights': [0.33395117659733675, 0.6364528636580962, 0.21585368592083076], 'output': 0.6177171007123751}], [{'weights': [0.9478778318343694, 0.48620389024745814, 0.4138452177977743, 0.423569531962366], 'output': 0.8485804944130987}, {'weights': [0.5674600098512985, 0.3647822041420016, 0.25464210235046614, 0.5377591766164905], 'output': 0.7987445048958676}]]\n"
     ]
    }
   ],
   "source": [
    "def netInput(weights,inputs):\n",
    "    netInput = weights[-1]\n",
    "    for i in range(len(weights)-1):\n",
    "        netInput = netInput + weights[i]*inputs[i]\n",
    "    return netInput\n",
    "def netOutput(netInput):\n",
    "    return 1.0 / (1.0 + exp(-netInput))\n",
    "def forwardPropagate(network, row):\n",
    "    inputs = row\n",
    "    for layer in network:\n",
    "        new_inputs = []\n",
    "        for neuron in layer:\n",
    "            activation = netInput(neuron['weights'], inputs)\n",
    "            neuron['output'] = netOutput(activation)\n",
    "            new_inputs.append(neuron['output'])\n",
    "        inputs = new_inputs\n",
    "    return inputs\n",
    "## Testing Example \n",
    "row = [.6, .1, None]\n",
    "output = forwardPropagate(nnTest, row)\n",
    "print(output)\n",
    "print('-----------')\n",
    "print(nnTest)"
   ]
  },
  {
   "cell_type": "markdown",
   "metadata": {},
   "source": [
    "### Back Propogation"
   ]
  },
  {
   "cell_type": "code",
   "execution_count": 18,
   "metadata": {},
   "outputs": [
    {
     "data": {
      "text/plain": [
       "[[{'weights': [0.04867004643405559, 0.34191875689337337, 0.7675190728202232],\n",
       "   'output': 0.6965479392627051,\n",
       "   'delta': -0.011502604587742963},\n",
       "  {'weights': [0.9041471736555495, 0.8461087955749224, 0.6973124996479755],\n",
       "   'output': 0.7899147592724305,\n",
       "   'delta': -0.006202894560279114},\n",
       "  {'weights': [0.33395117659733675, 0.6364528636580962, 0.21585368592083076],\n",
       "   'output': 0.6177171007123751,\n",
       "   'delta': -0.005819524302127215}],\n",
       " [{'weights': [0.9478778318343694,\n",
       "    0.48620389024745814,\n",
       "    0.4138452177977743,\n",
       "    0.423569531962366],\n",
       "   'output': 0.8485804944130987,\n",
       "   'delta': 0.019456140436517503},\n",
       "  {'weights': [0.5674600098512985,\n",
       "    0.3647822041420016,\n",
       "    0.25464210235046614,\n",
       "    0.5377591766164905],\n",
       "   'output': 0.7987445048958676,\n",
       "   'delta': -0.12839955363717998}]]"
      ]
     },
     "execution_count": 18,
     "metadata": {},
     "output_type": "execute_result"
    }
   ],
   "source": [
    "def deriv(output):\n",
    "    return output*(1.0 - output)\n",
    "def backwardPropagate(network, expected):\n",
    "    for i in reversed(range(len(network))):\n",
    "        layer = network[i]\n",
    "        errors = list()\n",
    "        if i != len(network)-1:\n",
    "            for j in range(len(layer)):\n",
    "                error = 0.0\n",
    "                for neuron in network[i + 1]:\n",
    "                    error += (neuron['weights'][j] * neuron['delta'])\n",
    "                errors.append(error)\n",
    "        else:\n",
    "            for j in range(len(layer)):\n",
    "                neuron = layer[j]\n",
    "                errors.append(expected[j] - neuron['output'])\n",
    "        for j in range(len(layer)):\n",
    "            neuron = layer[j]\n",
    "            neuron['delta'] = errors[j] * deriv(neuron['output'])\n",
    "\n",
    "# Update network weights with error\n",
    "def newWeights(network, row, l_rate):\n",
    "    for i in range(len(network)):\n",
    "        inputs = row[:-1]\n",
    "        if i != 0:\n",
    "            inputs = [neuron['output'] for neuron in network[i - 1]]\n",
    "        for neuron in network[i]:\n",
    "            for j in range(len(inputs)):\n",
    "                neuron['weights'][j] += l_rate * neuron['delta'] * inputs[j]\n",
    "            neuron['weights'][-1] += l_rate * neuron['delta']\n",
    "backwardPropagate(nnTest,[1,0])\n",
    "nnTest"
   ]
  },
  {
   "cell_type": "markdown",
   "metadata": {},
   "source": [
    "### Train"
   ]
  },
  {
   "cell_type": "code",
   "execution_count": 29,
   "metadata": {},
   "outputs": [],
   "source": [
    "def train_network(network, data, lrate, n_iteration, n_outputs):\n",
    "    for iteration in range(n_iteration):\n",
    "        sum_error = 0\n",
    "        for row in data:\n",
    "            outputs= forwardPropagate(network, row)\n",
    "            expected = [0 for i in range(n_outputs)]\n",
    "            expected[row[-1]] = 1\n",
    "            sum_error += sum([(expected[i]-outputs[i])**2 for i in range(len(expected))])\n",
    "            backwardPropagate(nn, expected)\n",
    "            newWeights(nn, row, lrate)\n",
    "    return nn"
   ]
  },
  {
   "cell_type": "markdown",
   "metadata": {},
   "source": [
    "## Test Example $\\Rightarrow$ From HW"
   ]
  },
  {
   "cell_type": "code",
   "execution_count": 30,
   "metadata": {},
   "outputs": [
    {
     "data": {
      "text/plain": [
       "[[{'weights': [0.6984730471163791, 0.06836983190070531, 0.42486325208294184],\n",
       "   'output': 0.6428846723050125,\n",
       "   'delta': -0.025112937339829354},\n",
       "  {'weights': [0.32133912559117844, 1.1234246476745002, 0.6911741021378273],\n",
       "   'output': 0.7485283651877953,\n",
       "   'delta': 0.01495948235914266},\n",
       "  {'weights': [0.6198280305139938, -0.06370547311781251, -0.08996253202182175],\n",
       "   'output': 0.5044124575484605,\n",
       "   'delta': -0.02441465711568682}],\n",
       " [{'weights': [-0.10716265359179475,\n",
       "    0.33871451893595894,\n",
       "    -0.3220117245503351,\n",
       "    -0.017367527523875513],\n",
       "   'output': 0.49416993804819,\n",
       "   'delta': 0.12644032251516743},\n",
       "  {'weights': [0.7505018434528816,\n",
       "    -0.3121273699924513,\n",
       "    0.44289962294338814,\n",
       "    -0.5003135879626456],\n",
       "   'output': 0.4999469569835379,\n",
       "   'delta': -0.1249867378392529}]]"
      ]
     },
     "execution_count": 30,
     "metadata": {},
     "output_type": "execute_result"
    }
   ],
   "source": [
    "nn = initialize(2,3,2)\n",
    "trainingSet = [[.6,.1,1],[.2,.3,0]] # 1 for screw, 0 for nail\n",
    "## 20 iterations because why not\n",
    "train_network(nn,trainingSet,.1, 1000, 2 )"
   ]
  },
  {
   "cell_type": "markdown",
   "metadata": {},
   "source": [
    " Use the nueral network algorithm to run prediction models after MANY iterations (1000)"
   ]
  },
  {
   "cell_type": "code",
   "execution_count": null,
   "metadata": {},
   "outputs": [],
   "source": []
  }
 ],
 "metadata": {
  "kernelspec": {
   "display_name": "Python 3",
   "language": "python",
   "name": "python3"
  },
  "language_info": {
   "codemirror_mode": {
    "name": "ipython",
    "version": 3
   },
   "file_extension": ".py",
   "mimetype": "text/x-python",
   "name": "python",
   "nbconvert_exporter": "python",
   "pygments_lexer": "ipython3",
   "version": "3.8.5"
  }
 },
 "nbformat": 4,
 "nbformat_minor": 4
}
