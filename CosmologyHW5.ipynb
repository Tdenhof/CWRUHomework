{
 "cells": [
  {
   "cell_type": "code",
   "execution_count": 102,
   "metadata": {},
   "outputs": [],
   "source": [
    "import pandas as pd\n",
    "import matplotlib.pyplot as plt\n",
    "import matplotlib.gridspec as gridspec\n",
    "import numpy as np\n",
    "import math\n",
    "from astropy import units as u\n",
    "from astropy.coordinates import SkyCoord\n",
    "from astropy.coordinates import Distance"
   ]
  },
  {
   "cell_type": "code",
   "execution_count": 44,
   "metadata": {},
   "outputs": [
    {
     "data": {
      "text/html": [
       "<div>\n",
       "<style scoped>\n",
       "    .dataframe tbody tr th:only-of-type {\n",
       "        vertical-align: middle;\n",
       "    }\n",
       "\n",
       "    .dataframe tbody tr th {\n",
       "        vertical-align: top;\n",
       "    }\n",
       "\n",
       "    .dataframe thead th {\n",
       "        text-align: right;\n",
       "    }\n",
       "</style>\n",
       "<table border=\"1\" class=\"dataframe\">\n",
       "  <thead>\n",
       "    <tr style=\"text-align: right;\">\n",
       "      <th></th>\n",
       "      <th>index</th>\n",
       "      <th>0</th>\n",
       "    </tr>\n",
       "  </thead>\n",
       "  <tbody>\n",
       "    <tr>\n",
       "      <th>0</th>\n",
       "      <td>2</td>\n",
       "      <td>08 00 00.0      +30 55 00      14.90  12160  ...</td>\n",
       "    </tr>\n",
       "    <tr>\n",
       "      <th>1</th>\n",
       "      <td>3</td>\n",
       "      <td>08 01 00.0      +30 19 00      15.40   4148  ...</td>\n",
       "    </tr>\n",
       "    <tr>\n",
       "      <th>2</th>\n",
       "      <td>4</td>\n",
       "      <td>08 01 12.0      +29 38 00      15.20   5503  ...</td>\n",
       "    </tr>\n",
       "    <tr>\n",
       "      <th>3</th>\n",
       "      <td>5</td>\n",
       "      <td>08 01 12.0      +29 38 00      15.40   5354  ...</td>\n",
       "    </tr>\n",
       "    <tr>\n",
       "      <th>4</th>\n",
       "      <td>6</td>\n",
       "      <td>08 01 54.0      +29 51 00      15.50   6500  ...</td>\n",
       "    </tr>\n",
       "    <tr>\n",
       "      <th>...</th>\n",
       "      <td>...</td>\n",
       "      <td>...</td>\n",
       "    </tr>\n",
       "    <tr>\n",
       "      <th>1150</th>\n",
       "      <td>1152</td>\n",
       "      <td>16 58 48.0      +29 54 00      15.20  10539  ...</td>\n",
       "    </tr>\n",
       "    <tr>\n",
       "      <th>1151</th>\n",
       "      <td>1153</td>\n",
       "      <td>16 58 54.0      +28 05 00      15.00   9856  ...</td>\n",
       "    </tr>\n",
       "    <tr>\n",
       "      <th>1152</th>\n",
       "      <td>1154</td>\n",
       "      <td>16 59 33.6      +30 23 57      15.30  10051  ...</td>\n",
       "    </tr>\n",
       "    <tr>\n",
       "      <th>1153</th>\n",
       "      <td>1155</td>\n",
       "      <td>16 59 36.0      +30 15 00      15.20  10742  ...</td>\n",
       "    </tr>\n",
       "    <tr>\n",
       "      <th>1154</th>\n",
       "      <td>1156</td>\n",
       "      <td>16 59 54.0      +28 30 00      15.40  10746  ...</td>\n",
       "    </tr>\n",
       "  </tbody>\n",
       "</table>\n",
       "<p>1155 rows × 2 columns</p>\n",
       "</div>"
      ],
      "text/plain": [
       "      index                                                  0\n",
       "0         2   08 00 00.0      +30 55 00      14.90  12160  ...\n",
       "1         3   08 01 00.0      +30 19 00      15.40   4148  ...\n",
       "2         4   08 01 12.0      +29 38 00      15.20   5503  ...\n",
       "3         5   08 01 12.0      +29 38 00      15.40   5354  ...\n",
       "4         6   08 01 54.0      +29 51 00      15.50   6500  ...\n",
       "...     ...                                                ...\n",
       "1150   1152   16 58 48.0      +29 54 00      15.20  10539  ...\n",
       "1151   1153   16 58 54.0      +28 05 00      15.00   9856  ...\n",
       "1152   1154   16 59 33.6      +30 23 57      15.30  10051  ...\n",
       "1153   1155   16 59 36.0      +30 15 00      15.20  10742  ...\n",
       "1154   1156   16 59 54.0      +28 30 00      15.40  10746  ...\n",
       "\n",
       "[1155 rows x 2 columns]"
      ]
     },
     "execution_count": 44,
     "metadata": {},
     "output_type": "execute_result"
    }
   ],
   "source": [
    "data = pd.read_csv('http://astroweb.case.edu/izehavi/336/cfa2.dat',header = None)\n",
    "df = pd.DataFrame(data)\n",
    "df =df.drop([0,1],axis = 0)\n",
    "df = df.reset_index()\n",
    "df"
   ]
  },
  {
   "cell_type": "code",
   "execution_count": 137,
   "metadata": {},
   "outputs": [
    {
     "data": {
      "text/html": [
       "<div>\n",
       "<style scoped>\n",
       "    .dataframe tbody tr th:only-of-type {\n",
       "        vertical-align: middle;\n",
       "    }\n",
       "\n",
       "    .dataframe tbody tr th {\n",
       "        vertical-align: top;\n",
       "    }\n",
       "\n",
       "    .dataframe thead th {\n",
       "        text-align: right;\n",
       "    }\n",
       "</style>\n",
       "<table border=\"1\" class=\"dataframe\">\n",
       "  <thead>\n",
       "    <tr style=\"text-align: right;\">\n",
       "      <th></th>\n",
       "      <th>index</th>\n",
       "      <th>0</th>\n",
       "      <th>RA</th>\n",
       "      <th>Dec</th>\n",
       "      <th>M_B</th>\n",
       "      <th>Vcz</th>\n",
       "      <th>error</th>\n",
       "      <th>graph-RA</th>\n",
       "      <th>graph-DEC</th>\n",
       "      <th>sc</th>\n",
       "    </tr>\n",
       "  </thead>\n",
       "  <tbody>\n",
       "    <tr>\n",
       "      <th>0</th>\n",
       "      <td>2</td>\n",
       "      <td>08 00 00.0      +30 55 00      14.90  12160  ...</td>\n",
       "      <td>[08, 00, 00.0]</td>\n",
       "      <td>[+30, 55, 00]</td>\n",
       "      <td>14.90</td>\n",
       "      <td>12160</td>\n",
       "      <td>37</td>\n",
       "      <td>2.094395</td>\n",
       "      <td>30</td>\n",
       "      <td>[2.0943951023931953, 30.916666666666668]</td>\n",
       "    </tr>\n",
       "    <tr>\n",
       "      <th>1</th>\n",
       "      <td>3</td>\n",
       "      <td>08 01 00.0      +30 19 00      15.40   4148  ...</td>\n",
       "      <td>[08, 01, 00.0]</td>\n",
       "      <td>[+30, 19, 00]</td>\n",
       "      <td>15.40</td>\n",
       "      <td>4148</td>\n",
       "      <td>37</td>\n",
       "      <td>2.098758</td>\n",
       "      <td>30</td>\n",
       "      <td>[2.0987584255231813, 30.316666666666666]</td>\n",
       "    </tr>\n",
       "    <tr>\n",
       "      <th>2</th>\n",
       "      <td>4</td>\n",
       "      <td>08 01 12.0      +29 38 00      15.20   5503  ...</td>\n",
       "      <td>[08, 01, 12.0]</td>\n",
       "      <td>[+29, 38, 00]</td>\n",
       "      <td>15.20</td>\n",
       "      <td>5503</td>\n",
       "      <td>35</td>\n",
       "      <td>2.099631</td>\n",
       "      <td>29</td>\n",
       "      <td>[2.099631090149179, 29.633333333333333]</td>\n",
       "    </tr>\n",
       "    <tr>\n",
       "      <th>3</th>\n",
       "      <td>5</td>\n",
       "      <td>08 01 12.0      +29 38 00      15.40   5354  ...</td>\n",
       "      <td>[08, 01, 12.0]</td>\n",
       "      <td>[+29, 38, 00]</td>\n",
       "      <td>15.40</td>\n",
       "      <td>5354</td>\n",
       "      <td>30</td>\n",
       "      <td>2.099631</td>\n",
       "      <td>29</td>\n",
       "      <td>[2.099631090149179, 29.633333333333333]</td>\n",
       "    </tr>\n",
       "    <tr>\n",
       "      <th>4</th>\n",
       "      <td>6</td>\n",
       "      <td>08 01 54.0      +29 51 00      15.50   6500  ...</td>\n",
       "      <td>[08, 01, 54.0]</td>\n",
       "      <td>[+29, 51, 00]</td>\n",
       "      <td>15.50</td>\n",
       "      <td>6500</td>\n",
       "      <td>38</td>\n",
       "      <td>2.102685</td>\n",
       "      <td>29</td>\n",
       "      <td>[2.1026854163401687, 29.85]</td>\n",
       "    </tr>\n",
       "  </tbody>\n",
       "</table>\n",
       "</div>"
      ],
      "text/plain": [
       "   index                                                  0              RA  \\\n",
       "0      2   08 00 00.0      +30 55 00      14.90  12160  ...  [08, 00, 00.0]   \n",
       "1      3   08 01 00.0      +30 19 00      15.40   4148  ...  [08, 01, 00.0]   \n",
       "2      4   08 01 12.0      +29 38 00      15.20   5503  ...  [08, 01, 12.0]   \n",
       "3      5   08 01 12.0      +29 38 00      15.40   5354  ...  [08, 01, 12.0]   \n",
       "4      6   08 01 54.0      +29 51 00      15.50   6500  ...  [08, 01, 54.0]   \n",
       "\n",
       "             Dec    M_B    Vcz error  graph-RA  graph-DEC  \\\n",
       "0  [+30, 55, 00]  14.90  12160    37  2.094395         30   \n",
       "1  [+30, 19, 00]  15.40   4148    37  2.098758         30   \n",
       "2  [+29, 38, 00]  15.20   5503    35  2.099631         29   \n",
       "3  [+29, 38, 00]  15.40   5354    30  2.099631         29   \n",
       "4  [+29, 51, 00]  15.50   6500    38  2.102685         29   \n",
       "\n",
       "                                         sc  \n",
       "0  [2.0943951023931953, 30.916666666666668]  \n",
       "1  [2.0987584255231813, 30.316666666666666]  \n",
       "2   [2.099631090149179, 29.633333333333333]  \n",
       "3   [2.099631090149179, 29.633333333333333]  \n",
       "4               [2.1026854163401687, 29.85]  "
      ]
     },
     "execution_count": 137,
     "metadata": {},
     "output_type": "execute_result"
    }
   ],
   "source": [
    "s = df[0][2]\n",
    "split = s.split(' ')\n",
    "split\n",
    "def transformData(df):\n",
    "    RA = []\n",
    "    Dec = []\n",
    "    M_B = []\n",
    "    Vcz = []\n",
    "    error = []\n",
    "    sc = []\n",
    "    #Cycle through Data Set \n",
    "    for i in range(len(df)):\n",
    "        s = df[0][i]\n",
    "        split = s.split()\n",
    "        #Sky Coord Data \n",
    "        line = dataForSkyCoord(split)\n",
    "        sc.append(skyCoord(line))\n",
    "        #Get RA\n",
    "        tempRA = []\n",
    "        for i in range(0,3):\n",
    "            tempRA.append(split[i])\n",
    "        RA.append(tempRA)\n",
    "        #Get Dec\n",
    "        tempDec = []\n",
    "        for i in range(3,6):\n",
    "            tempDec.append(split[i])\n",
    "        Dec.append(tempDec)\n",
    "        \n",
    "        #Get M_B \n",
    "        M_B.append(split[6])\n",
    "        #GEt v=cv\n",
    "        Vcz.append(split[7])\n",
    "        #Get error\n",
    "        error.append(split[8])\n",
    "    df.drop([0,1],axis = 0)\n",
    "    df.reset_index()\n",
    "    df['sc'] = sc\n",
    "    df['RA'] = RA\n",
    "    df['Dec'] = Dec\n",
    "    df['M_B'] = M_B\n",
    "    df['Vcz'] = Vcz\n",
    "    df['error'] = error\n",
    "    return df \n",
    "def dataForSkyCoord(splitString):\n",
    "    final = []\n",
    "    for i in range(0,6):\n",
    "        final.append(splitString[i])\n",
    "    return ' '.join(final)\n",
    "def skyCoord(stringValue):\n",
    "    c = SkyCoord(stringValue, unit=(u.hourangle, u.deg))\n",
    "    radian = c.ra.wrap_at(180*u.deg).radian\n",
    "    degree = c.dec.degree\n",
    "    return[radian,degree]    \n",
    "df = transformData(df)\n",
    "df.head()"
   ]
  },
  {
   "cell_type": "code",
   "execution_count": 150,
   "metadata": {
    "scrolled": true
   },
   "outputs": [
    {
     "name": "stderr",
     "output_type": "stream",
     "text": [
      "<ipython-input-150-906494a1550c>:23: UserWarning: FixedFormatter should only be used together with FixedLocator\n",
      "  ax.set_xticklabels(['$0^h$','$3^h$', '$6^h$', '$9^h$', '$12^h$', '$15^h$', '$18^h$',\n"
     ]
    },
    {
     "data": {
      "text/plain": [
       "<Figure size 576x302.4 with 0 Axes>"
      ]
     },
     "metadata": {},
     "output_type": "display_data"
    },
    {
     "data": {
      "image/png": "[encoded data removed]",
      "text/plain": [
       "<Figure size 432x288 with 1 Axes>"
      ]
     },
     "metadata": {
      "needs_background": "light"
     },
     "output_type": "display_data"
    }
   ],
   "source": [
    "def radians(df):\n",
    "    finData = []\n",
    "    for i  in range(len(df)):\n",
    "        finData.append(df['sc'][i][0])\n",
    "def decF(df):\n",
    "    finData = []\n",
    "    for i in range(len(df)):\n",
    "        data = df['Dec'][i]\n",
    "        temp = data[0]\n",
    "        temp = int(temp)\n",
    "        finData.append(temp)\n",
    "    df['graph-DEC'] = finData\n",
    "def graph(df, xmin = None,xmax = None):\n",
    "    ra_rad = []\n",
    "    dec_rad = []\n",
    "    for i in range(len(df)):\n",
    "        dec_rad.append(df['Vcz'][i])\n",
    "        ra_rad.append(df['sc'][i][1])\n",
    "    plt.figure(figsize=(8,4.2))\n",
    "    fig = plt.figure()\n",
    "    ax = fig.add_subplot(projection='polar')\n",
    "    if (xmin == None) & (xmax == None):\n",
    "        ax.set_xticklabels(['$0^h$','$3^h$', '$6^h$', '$9^h$', '$12^h$', '$15^h$', '$18^h$',\n",
    "    '$21^h$'], fontsize=10)\n",
    "   \n",
    "    if xmin != None:\n",
    "        ax.set_thetamin(xmin)\n",
    "    if xmax != None:\n",
    "        ax.set_thetamax(xmax)\n",
    "    plt.grid(True)\n",
    "    plt.plot(ra_rad, dec_rad, 'o', markersize=2, alpha=0.3)\n",
    "    plt.show()\n",
    "        \n",
    "        \n",
    "graph(df)"
   ]
  },
  {
   "cell_type": "code",
   "execution_count": 151,
   "metadata": {},
   "outputs": [
    {
     "data": {
      "text/plain": [
       "<Figure size 576x302.4 with 0 Axes>"
      ]
     },
     "metadata": {},
     "output_type": "display_data"
    },
    {
     "data": {
      "image/png": "[encoded data removed]",
      "text/plain": [
       "<Figure size 432x288 with 1 Axes>"
      ]
     },
     "metadata": {
      "needs_background": "light"
     },
     "output_type": "display_data"
    }
   ],
   "source": [
    "graph(df,120,270)"
   ]
  },
  {
   "cell_type": "code",
   "execution_count": null,
   "metadata": {},
   "outputs": [],
   "source": []
  },
  {
   "cell_type": "code",
   "execution_count": null,
   "metadata": {},
   "outputs": [],
   "source": []
  },
  {
   "cell_type": "code",
   "execution_count": null,
   "metadata": {},
   "outputs": [],
   "source": []
  }
 ],
 "metadata": {
  "kernelspec": {
   "display_name": "Python 3",
   "language": "python",
   "name": "python3"
  },
  "language_info": {
   "codemirror_mode": {
    "name": "ipython",
    "version": 3
   },
   "file_extension": ".py",
   "mimetype": "text/x-python",
   "name": "python",
   "nbconvert_exporter": "python",
   "pygments_lexer": "ipython3",
   "version": "3.8.5"
  }
 },
 "nbformat": 4,
 "nbformat_minor": 4
}
